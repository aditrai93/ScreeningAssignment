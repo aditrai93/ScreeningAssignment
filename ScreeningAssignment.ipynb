{
 "cells": [
  {
   "cell_type": "markdown",
   "id": "0dbf4655",
   "metadata": {},
   "source": [
    "## 1. Create a function in python to read the text file and replace specific content of the file."
   ]
  },
  {
   "cell_type": "code",
   "execution_count": null,
   "id": "f68856e0",
   "metadata": {},
   "outputs": [],
   "source": [
    "def readTxt(file,Searchstr,newString):\n",
    "    try:\n",
    "        f1=open(file,'r')\n",
    "        r=f1.read()\n",
    "        print('Before replacement :-\\n')\n",
    "        print(r,'\\n')\n",
    "        new=r.replace(Searchstr,newString)\n",
    "        f1.close()\n",
    "        f2=open(file,'w')\n",
    "        f2.write(new)\n",
    "        f2.close() \n",
    "        f3=open(file,'r')\n",
    "        r=f3.read()\n",
    "        print('After replacement :-\\n')\n",
    "        print(r,'\\n')\n",
    "        f3.close()\n",
    "    except Exception as e:\n",
    "        print(e)"
   ]
  },
  {
   "cell_type": "code",
   "execution_count": 134,
   "id": "91b23935",
   "metadata": {},
   "outputs": [
    {
     "name": "stdout",
     "output_type": "stream",
     "text": [
      "Before replacement :-\n",
      "\n",
      "Hello Ineuron\n",
      "This is placement assignment\n",
      "I am done with my assignment \n",
      "\n",
      "After replacement :-\n",
      "\n",
      "Hello Ineuron\n",
      "This is screening assignment\n",
      "I am done with my assignment \n",
      "\n"
     ]
    }
   ],
   "source": [
    "readTxt('screening2.txt','placement','screening')"
   ]
  },
  {
   "cell_type": "markdown",
   "id": "e36eb8c5",
   "metadata": {},
   "source": [
    "## 2. Demonstrate use of abstract class, multiple inheritance and decorator in python using examples."
   ]
  },
  {
   "cell_type": "code",
   "execution_count": 26,
   "id": "769a9105",
   "metadata": {},
   "outputs": [],
   "source": [
    "#Abstract Class Demostration using Example\n",
    "\n",
    "class parentClass: # An abstract class which contains a method definition but not the implementation of the method\n",
    "    def displaying(self):\n",
    "        pass\n",
    "    \n",
    "\n",
    "class childclass1(parentClass): # This are the child class which uses abstract class for the implementation\n",
    "    def displaying(self):\n",
    "        print('This is example 1 of abstract class')\n",
    "        \n",
    "class childclass2(parentClass):\n",
    "    def displaying(self):\n",
    "        print('This is example 2 of abstract class')"
   ]
  },
  {
   "cell_type": "code",
   "execution_count": 27,
   "id": "d64f9d14",
   "metadata": {},
   "outputs": [],
   "source": [
    "obj1=parentClass()"
   ]
  },
  {
   "cell_type": "code",
   "execution_count": 28,
   "id": "d60fed11",
   "metadata": {},
   "outputs": [],
   "source": [
    "obj2=childclass1()"
   ]
  },
  {
   "cell_type": "code",
   "execution_count": 29,
   "id": "5f6b1155",
   "metadata": {},
   "outputs": [],
   "source": [
    "obj3=childclass2()"
   ]
  },
  {
   "cell_type": "code",
   "execution_count": 35,
   "id": "ca4c11d2",
   "metadata": {},
   "outputs": [
    {
     "name": "stdout",
     "output_type": "stream",
     "text": [
      "This is example 2 of abstract class\n"
     ]
    }
   ],
   "source": [
    "obj3.displaying()"
   ]
  },
  {
   "cell_type": "code",
   "execution_count": 36,
   "id": "ed48423e",
   "metadata": {},
   "outputs": [],
   "source": [
    "# Demonstration of the multiple Inheritance\n",
    "class Inheritparent:\n",
    "    def __init__(self,string1,string2):\n",
    "        self.st1=string1\n",
    "        self.st2=string2\n",
    "        \n",
    "    def displaymsg1(self):\n",
    "        return 'this is parent class mesg '+self.st1+' '+self.st2\n",
    "    \n",
    "class child1(Inheritparent):\n",
    "    def displaymsg2(self):\n",
    "        return 'this is child class 1 mesg '+self.st1+' '+self.st2\n",
    "    \n",
    "class child2(child1):\n",
    "    def displaymsg3(self):\n",
    "        return 'this is child class 2 msg '+self.st1+' '+self.st2"
   ]
  },
  {
   "cell_type": "code",
   "execution_count": 43,
   "id": "8669e938",
   "metadata": {},
   "outputs": [],
   "source": [
    "obj3=child2('hey','coders') # Creating object of the last class which is child of a child class"
   ]
  },
  {
   "cell_type": "code",
   "execution_count": 44,
   "id": "5406823e",
   "metadata": {},
   "outputs": [
    {
     "data": {
      "text/plain": [
       "'this is parent class mesg hey coders'"
      ]
     },
     "execution_count": 44,
     "metadata": {},
     "output_type": "execute_result"
    }
   ],
   "source": [
    "obj3.displaymsg1() # Here we can see that the 3rd child class can able to get the method of its parents parent class"
   ]
  },
  {
   "cell_type": "code",
   "execution_count": 45,
   "id": "13a0599a",
   "metadata": {},
   "outputs": [
    {
     "data": {
      "text/plain": [
       "'this is child class 1 mesg hey coders'"
      ]
     },
     "execution_count": 45,
     "metadata": {},
     "output_type": "execute_result"
    }
   ],
   "source": [
    "obj3.displaymsg2() # Multiple Inheritance make one class able to run the methods which is defined in another class"
   ]
  },
  {
   "cell_type": "code",
   "execution_count": 78,
   "id": "448a10e0",
   "metadata": {},
   "outputs": [],
   "source": [
    "# Decorator Demonstration,Decorator can be defined as a property which will get applied to the following method\n",
    "class Decorator1: # Class definition without a staticmethod decorator\n",
    "    def __init__(self,a,b):\n",
    "        self.a=a\n",
    "        self.b=b\n",
    "        \n",
    "    def welcome(self):\n",
    "        return self.a+self.b\n",
    "    \n",
    "class Decorator2:# Class definition with a staticmethod decorator\n",
    "    def __init__(self,a,b):\n",
    "        self.a=a\n",
    "        self.b=b\n",
    "        \n",
    "    @staticmethod\n",
    "    def welcome(InputString):\n",
    "        print( 'This is an example of static method '+ InputString)"
   ]
  },
  {
   "cell_type": "code",
   "execution_count": 79,
   "id": "627a3629",
   "metadata": {},
   "outputs": [
    {
     "data": {
      "text/plain": [
       "5"
      ]
     },
     "execution_count": 79,
     "metadata": {},
     "output_type": "execute_result"
    }
   ],
   "source": [
    "obj1=Decorator1(2,3) #Here we can see the output is calculated over the input values of the class \n",
    "obj1.welcome()"
   ]
  },
  {
   "cell_type": "code",
   "execution_count": 80,
   "id": "cce3c1d5",
   "metadata": {},
   "outputs": [
    {
     "name": "stdout",
     "output_type": "stream",
     "text": [
      "This is an example of static method static\n"
     ]
    }
   ],
   "source": [
    "obj1=Decorator2(2,3) # After mentioning decorator the method going to behave as a static which means it will not act as a instance of the class\n",
    "obj1.welcome('static')"
   ]
  },
  {
   "cell_type": "code",
   "execution_count": null,
   "id": "cb7bce00",
   "metadata": {},
   "outputs": [],
   "source": []
  }
 ],
 "metadata": {
  "kernelspec": {
   "display_name": "Python 3 (ipykernel)",
   "language": "python",
   "name": "python3"
  },
  "language_info": {
   "codemirror_mode": {
    "name": "ipython",
    "version": 3
   },
   "file_extension": ".py",
   "mimetype": "text/x-python",
   "name": "python",
   "nbconvert_exporter": "python",
   "pygments_lexer": "ipython3",
   "version": "3.9.7"
  }
 },
 "nbformat": 4,
 "nbformat_minor": 5
}
